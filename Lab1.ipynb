{
 "cells": [
  {
   "cell_type": "markdown",
   "id": "fifteen-sailing",
   "metadata": {},
   "source": [
    "# Лабораторная работа №1\n",
    "## Выполнил студент группы ГРУППА БВТ2004 Ванчикова Нарана Владимировна"
   ]
  },
  {
   "cell_type": "markdown",
   "id": "particular-syndicate",
   "metadata": {},
   "source": [
    "### Оглавление\n",
    "1. [Задание 1](#Задание-№1)\n",
    "2. [Задание 2](#Задание-№2)\n",
    "3. [Задание 3](#Задание-№3)\n",
    "4. [Вывод](#Вывод)"
   ]
  },
  {
   "cell_type": "markdown",
   "id": "arctic-stocks",
   "metadata": {},
   "source": [
    "### Задание №1\n",
    "<i> Вызвать функцию print() и передать туда строку Hello, World! </i>"
   ]
  },
  {
   "cell_type": "code",
   "execution_count": 6,
   "id": "caring-truck",
   "metadata": {
    "scrolled": true
   },
   "outputs": [
    {
     "name": "stdout",
     "output_type": "stream",
     "text": [
      "Hello, World!\n"
     ]
    }
   ],
   "source": [
    "print(\"Hello, World!\")"
   ]
  },
  {
   "cell_type": "markdown",
   "id": "maritime-conversation",
   "metadata": {},
   "source": [
    "### Задание №2\n",
    "Написать генератор случайных матриц(многомерных), который принимает\n",
    "опциональные параметры <b>m</b>, <b>n</b>, <b>min_limit</b>, <b>max_limit</b>, где <b>m</b> и <b>n</b> указывают размер\n",
    "матрицы, а <b>min_lim</b> и <b>max_lim</b> - минимальное и максимальное значение для\n",
    "генерируемого числа."
   ]
  },
  {
   "cell_type": "code",
   "execution_count": null,
   "id": "3b4fe8a0",
   "metadata": {},
   "outputs": [],
   "source": [
    "import random\n",
    "import time"
   ]
  },
  {
   "cell_type": "code",
   "execution_count": 8,
   "id": "built-contact",
   "metadata": {},
   "outputs": [
    {
     "name": "stdout",
     "output_type": "stream",
     "text": [
      "Введите ширину матрицы: 5\n",
      "Введите длину матрицы: 12\n",
      "Введите минимальный элемент матрицы: 2\n",
      "Введите максимальный элемент матрицы: 25\n",
      "  13   9  10  14  19\n",
      "  20  21  15   3  12\n",
      "  23  24   2  19  25\n",
      "  19  14  24   3  19\n",
      "   3  21   9  17   4\n",
      "  18  13   3   5  19\n",
      "  18  13  17  15  14\n",
      "  20  11   5   3  10\n",
      "   9  20   7   6  24\n",
      "  22  16  20   9   5\n",
      "   9  22   9  18  13\n",
      "  16   6   7  16  15\n"
     ]
    }
   ],
   "source": [
    "#функция вывода матрицы\n",
    "def printMatrix(matrix: list[list[int]]):\n",
    "    print('\\n'.join([''.join(['{:4}'.format(elem) for elem in row]) for row in matrix]))\n",
    "\n",
    "\n",
    "def createArrey(m: int, n: int, min_limit: int, max_limit: int,):\n",
    "    return [[random.randint(min_limit, max_limit) for y in range(m)] for x in range(n)]\n",
    "user_m = int(input('Введите ширину матрицы: '))\n",
    "user_n = int(input('Введите длину матрицы: '))\n",
    "user_min_limit = int(input(\"Введите минимальный элемент матрицы: \"))\n",
    "user_max_limit = int(input(\"Введите максимальный элемент матрицы: \"))  \n",
    "matrix = createArrey(user_m, user_n, user_min_limit, user_max_limit)\n",
    "printMatrix(matrix)"
   ]
  },
  {
   "cell_type": "markdown",
   "id": "catholic-roots",
   "metadata": {},
   "source": [
    "### Задание №3\n",
    "Реализовать методы сортировки строк числовой матрицы в соответствии с\n",
    "заданием. Оценить время работы каждого алгоритма сортировки и сравнить его со\n",
    "временем стандартной функции сортировки. Испытания проводить на сгенерированных\n",
    "матрицах."
   ]
  },
  {
   "cell_type": "code",
   "execution_count": 9,
   "id": "opposed-creature",
   "metadata": {},
   "outputs": [],
   "source": [
    "import copy\n",
    "import time\n",
    "import random"
   ]
  },
  {
   "cell_type": "code",
   "execution_count": 10,
   "id": "cleared-anniversary",
   "metadata": {},
   "outputs": [
    {
     "name": "stdout",
     "output_type": "stream",
     "text": [
      "--- 0.173500 ms ---\n",
      "   2  19  23  24  25\n",
      "   3   4   9  17  21\n",
      "   3   5  10  11  20\n",
      "   3   5  13  18  19\n",
      "   3  12  15  20  21\n",
      "   3  14  19  19  24\n",
      "   5   9  16  20  22\n",
      "   6   7   9  20  24\n",
      "   6   7  15  16  16\n",
      "   9   9  13  18  22\n",
      "   9  10  13  14  19\n",
      "  13  14  15  17  18\n"
     ]
    }
   ],
   "source": [
    "# Сортировка выбором.\n",
    "# Берётся срез массива, в котором минимальный элемент переносят в самый левый угол,\n",
    "# после чего срез уменьшается и цикл повторяется\n",
    "#TODO\n",
    "matrix\n",
    "def selectionSort(values: list):\n",
    "    for x in range(len(values) - 1):\n",
    "        #берем текущее значение из массива\n",
    "        max_val = values[x]\n",
    "        max_index = x\n",
    "        for y in range(x, len(values)):\n",
    "            #проходим циклом от х до конца, если нашлось значение\n",
    "            #меньше чем х, присваиваем его к max_val\n",
    "            if max_val > values[y]:\n",
    "                max_val = values[y]\n",
    "                max_index = y\n",
    "        #преносим минимальное значение в лево\n",
    "        values[x], values[max_index] = values[max_index], values[x]\n",
    "start_time = time.perf_counter()\n",
    "\n",
    "for row in matrix:\n",
    "    selectionSort(row)\n",
    "        \n",
    "selectionSort(matrix)\n",
    "   \n",
    "\n",
    "print(\"--- {:.6f} ms ---\".format((time.perf_counter() - start_time) * 1000))\n",
    "printMatrix(matrix)"
   ]
  },
  {
   "cell_type": "code",
   "execution_count": 11,
   "id": "roman-silly",
   "metadata": {
    "scrolled": true
   },
   "outputs": [
    {
     "ename": "NameError",
     "evalue": "name 'deepcopy' is not defined",
     "output_type": "error",
     "traceback": [
      "\u001b[1;31m---------------------------------------------------------------------------\u001b[0m",
      "\u001b[1;31mNameError\u001b[0m                                 Traceback (most recent call last)",
      "Input \u001b[1;32mIn [11]\u001b[0m, in \u001b[0;36m<module>\u001b[1;34m\u001b[0m\n\u001b[0;32m      1\u001b[0m \u001b[38;5;66;03m# Сортировка вставкой.\u001b[39;00m\n\u001b[0;32m      2\u001b[0m \n\u001b[0;32m      3\u001b[0m \u001b[38;5;66;03m#TODO\u001b[39;00m\n\u001b[1;32m----> 4\u001b[0m matrix \u001b[38;5;241m=\u001b[39m \u001b[43mdeepcopy\u001b[49m(matrix)\n\u001b[0;32m      6\u001b[0m \u001b[38;5;28;01mdef\u001b[39;00m \u001b[38;5;21minsertionSort\u001b[39m(values: \u001b[38;5;28mlist\u001b[39m):\n\u001b[0;32m      7\u001b[0m     \u001b[38;5;28;01mfor\u001b[39;00m i \u001b[38;5;129;01min\u001b[39;00m \u001b[38;5;28mrange\u001b[39m(\u001b[38;5;28mlen\u001b[39m(values)):\n\u001b[0;32m      8\u001b[0m         \u001b[38;5;66;03m#берем текущее значение массива\u001b[39;00m\n",
      "\u001b[1;31mNameError\u001b[0m: name 'deepcopy' is not defined"
     ]
    }
   ],
   "source": [
    "# Сортировка вставкой.\n",
    "\n",
    "#TODO\n",
    "matrix = deepcopy(matrix)\n",
    "\n",
    "def insertionSort(values: list):\n",
    "    for i in range(len(values)):\n",
    "        #берем текущее значение массива\n",
    "        buffer = values[i]\n",
    "        j = i - 1\n",
    "        #пока текущее значение меньше предыдущего\n",
    "        while buffer < values[j] and j >= 0:\n",
    "            #присваиваем предыдущее к текущему\n",
    "            values[j + 1] = values[j]\n",
    "            j -= 1\n",
    "        values[j + 1] = buffer\n",
    "\n",
    "start_time = time.perf_counter()\n",
    "\n",
    "for row in matrix:\n",
    "    insertionSort(row)\n",
    "    \n",
    "insertionSort(matrix)\n",
    "\n",
    "print(\"--- {:.6f} ms ---\".format((time.perf_counter() - start_time) * 1000))\n",
    "printMatrix(matrix)"
   ]
  },
  {
   "cell_type": "code",
   "execution_count": null,
   "id": "vital-implementation",
   "metadata": {},
   "outputs": [],
   "source": [
    "# Сортировка обменом. || Сортировка пузырьком.\n",
    "matrix = deepcopy(matrix)\n",
    "\n",
    "def bubbleSort(values: list):\n",
    "    for i in range(len(values) - 1):\n",
    "        for j in range(len(values) - 1 - i):\n",
    "            #если текущий больше следующего, меняем местами\n",
    "            if values[j] > values[j + 1]:\n",
    "                values[j], values[j + 1] = values[j + 1], values[j]\n",
    "\n",
    "start_time = time.perf_counter()\n",
    "                \n",
    "for row in matrix:\n",
    "    bubbleSort(row)\n",
    "    \n",
    "bubbleSort(matrix)\n",
    "\n",
    "print(\"--- {:.6f} ms ---\".format((time.perf_counter() - start_time) * 1000))\n",
    "printMatrix(matrix)"
   ]
  },
  {
   "cell_type": "code",
   "execution_count": null,
   "id": "veterinary-glory",
   "metadata": {},
   "outputs": [],
   "source": [
    "# Сортировка Шелла.\n",
    "matrix = deepcopy(matrix)\n",
    "\n",
    "def shell(values: list):\n",
    "    #бинарный сдвиг вправо (деление на 2)\n",
    "    step = len(values) >> 1\n",
    "    #пока длина массива > 0\n",
    "    while step > 0:\n",
    "        for i in range(step, len(values)):\n",
    "            buffer = values[i]\n",
    "            j = i - step\n",
    "            #если текущее значение меньше len/2\n",
    "            if buffer < values[j] and j >= 0:\n",
    "                #меняем местами значения\n",
    "                values[j + step] = values[j]\n",
    "                j -= step\n",
    "            values[j + step] = buffer\n",
    "        step = step >> 1\n",
    "\n",
    "start_time = time.perf_counter()\n",
    "\n",
    "for row in matrix:\n",
    "    shell(row)\n",
    "    \n",
    "shell(matrix)\n",
    "\n",
    "print(\"--- {:.6f} ms ---\".format((time.perf_counter() - start_time) * 1000))\n",
    "printMatrix(matrix)"
   ]
  },
  {
   "cell_type": "code",
   "execution_count": null,
   "id": "correct-chaos",
   "metadata": {},
   "outputs": [],
   "source": [
    "# Быстрая сортировка.\n",
    "matrix = deepcopy(matrix)\n",
    "\n",
    "def fastSort(m):\n",
    "    #если длина массива <=1 \n",
    "    if len(m) <= 1:\n",
    "        return m\n",
    "    else:\n",
    "        #х длина матрицы пополам без остатка \n",
    "        x = m[len(m)//2]\n",
    "        y = []\n",
    "        z = []\n",
    "        b = []\n",
    "        for i in m:\n",
    "            #если текущее значение меньше опорного х\n",
    "            if i < x:\n",
    "                y.append(i)\n",
    "            elif i > x:\n",
    "                z.append(i)\n",
    "            else:\n",
    "                b.append(i)\n",
    "        #повторяем операции для получившихся более мелких массивов \n",
    "        return fastSort(y) + b + fastSort(z)\n",
    "        \n",
    "\n",
    "start_time = time.perf_counter()        \n",
    "\n",
    "for i in range(len(matrix)):\n",
    "    matrix[i] = fastSort(matrix[i])\n",
    "    \n",
    "matrix = fastSort(matrix)\n",
    "    \n",
    "print(\"--- {:.6f} ms ---\".format((time.perf_counter() - start_time) * 1000))\n",
    "printMatrix(matrix)   "
   ]
  },
  {
   "cell_type": "code",
   "execution_count": null,
   "id": "french-czech",
   "metadata": {},
   "outputs": [],
   "source": [
    "# Турнирная сортировка.\n",
    "from heapq import *\n",
    "matrix = copy.copy(matrix)\n",
    "\n",
    "def tournamentSort(m):\n",
    "    h = []\n",
    "    for i in m:\n",
    "        #создаем кучу из элементов массива\n",
    "        heappush(h, i)\n",
    "    for i in range(len(m)):\n",
    "        #сортировка с дерева\n",
    "        m[i] = heappop(h)\n",
    "\n",
    "start_time = time.perf_counter()  \n",
    "#TODO\n",
    "\n",
    "for i in range(len(matrix)):\n",
    "    tournamentSort(matrix[i])\n",
    "    \n",
    "tournamentSort(matrix)\n",
    "\n",
    "print(\"--- {:.6f} ms ---\".format((time.perf_counter() - start_time) * 1000))\n",
    "printMatrix(matrix)"
   ]
  },
  {
   "cell_type": "markdown",
   "id": "rental-jerusalem",
   "metadata": {},
   "source": [
    "### Вывод\n"
   ]
  },
  {
   "cell_type": "code",
   "execution_count": null,
   "id": "19e7f6a9",
   "metadata": {},
   "outputs": [],
   "source": []
  },
  {
   "cell_type": "code",
   "execution_count": null,
   "id": "3b5a1799",
   "metadata": {},
   "outputs": [],
   "source": []
  }
 ],
 "metadata": {
  "kernelspec": {
   "display_name": "Python 3 (ipykernel)",
   "language": "python",
   "name": "python3"
  },
  "language_info": {
   "codemirror_mode": {
    "name": "ipython",
    "version": 3
   },
   "file_extension": ".py",
   "mimetype": "text/x-python",
   "name": "python",
   "nbconvert_exporter": "python",
   "pygments_lexer": "ipython3",
   "version": "3.10.2"
  }
 },
 "nbformat": 4,
 "nbformat_minor": 5
}
